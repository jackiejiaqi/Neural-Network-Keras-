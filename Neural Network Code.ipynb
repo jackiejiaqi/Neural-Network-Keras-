{
  "cells": [
    {
      "cell_type": "code",
      "execution_count": 1,
      "metadata": {
        "id": "q96CH6jUmJJ4"
      },
      "outputs": [],
      "source": [
        "import keras\n",
        "import numpy as np\n",
        "import pandas as pd\n",
        "from keras.models import Sequential\n",
        "from keras.layers import Dense, Activation\n",
        "from keras import optimizers\n"
      ]
    },
    {
      "cell_type": "code",
      "execution_count": 2,
      "metadata": {
        "colab": {
          "base_uri": "https://localhost:8080/"
        },
        "id": "0djoNTs_mP6W",
        "outputId": "30c0f035-fd90-4d9f-98f0-2eaa994f3844"
      },
      "outputs": [
        {
          "name": "stderr",
          "output_type": "stream",
          "text": [
            "/usr/local/lib/python3.7/dist-packages/keras/optimizers/optimizer_v2/rmsprop.py:135: UserWarning: The `lr` argument is deprecated, use `learning_rate` instead.\n",
            "  super(RMSprop, self).__init__(name, **kwargs)\n"
          ]
        }
      ],
      "source": [
        "NEpochs = 10000\n",
        "BatchSize=250\n",
        "Optimizer=optimizers.RMSprop(lr=0.001)"
      ]
    },
    {
      "cell_type": "code",
      "execution_count": null,
      "metadata": {
        "id": "sJkJeAbWmiv6"
      },
      "outputs": [],
      "source": [
        "TrainDF = pd.read_csv('/content/NNHWTrain.csv',sep=',',header=0,quotechar='\"')\n",
        "list(TrainDF)"
      ]
    },
    {
      "cell_type": "code",
      "execution_count": null,
      "metadata": {
        "id": "vb8pp4vXmSfu"
      },
      "outputs": [],
      "source": [
        "ValDF = pd.read_csv('/content/NNHWVal.csv',sep=',',header=0,quotechar='\"')\n",
        "list(ValDF)\n",
        "TestDF = pd.read_csv('/content/NNHWTest.csv',sep=',',header=0,quotechar='\"')\n",
        "list(TestDF)"
      ]
    },
    {
      "cell_type": "code",
      "execution_count": 6,
      "metadata": {
        "id": "ujs74uOOo4rm"
      },
      "outputs": [],
      "source": [
        "TrIsSpam = np.array(TrainDF['IsSpam'])\n",
        "TrX = np.array(TrainDF.iloc[:,:-1])"
      ]
    },
    {
      "cell_type": "code",
      "execution_count": 8,
      "metadata": {
        "colab": {
          "base_uri": "https://localhost:8080/"
        },
        "id": "hOEStwiDm9NZ",
        "outputId": "5dede990-7580-47dc-9867-d69a113d3f95"
      },
      "outputs": [
        {
          "name": "stdout",
          "output_type": "stream",
          "text": [
            "(2761, 57)\n",
            "[0. 0. 0. 0. 0. 0. 0. 0. 0. 0. 0. 0. 0. 0. 0. 0. 0. 0. 0. 0. 0. 0. 0. 0.\n",
            " 0. 0. 0. 0. 0. 0. 0. 0. 0. 0. 0. 0. 0. 0. 0. 0. 0. 0. 0. 0. 0. 0. 0. 0.\n",
            " 0. 0. 0. 0. 0. 0. 0. 0. 0.]\n",
            "[1. 1. 1. 1. 1. 1. 1. 1. 1. 1. 1. 1. 1. 1. 1. 1. 1. 1. 1. 1. 1. 1. 1. 1.\n",
            " 1. 1. 1. 1. 1. 1. 1. 1. 1. 1. 1. 1. 1. 1. 1. 1. 1. 1. 1. 1. 1. 1. 1. 1.\n",
            " 1. 1. 1. 1. 1. 1. 1. 1. 1.]\n"
          ]
        }
      ],
      "source": [
        "# Rescale the training data X variable\n",
        "TrX = np.array(TrainDF.iloc[:,0:57])\n",
        "TrXrsc = (TrX - TrX.min(axis=0))/TrX.ptp(axis=0)\n",
        "print(TrXrsc.shape)\n",
        "print(TrXrsc.min(axis=0))\n",
        "print(TrXrsc.max(axis=0))"
      ]
    },
    {
      "cell_type": "code",
      "execution_count": 7,
      "metadata": {
        "colab": {
          "base_uri": "https://localhost:8080/"
        },
        "id": "PQctjjd3pApu",
        "outputId": "01aa30e5-f52b-4b8f-8be8-dc184d2a30b7"
      },
      "outputs": [
        {
          "name": "stdout",
          "output_type": "stream",
          "text": [
            "0\n",
            "1\n"
          ]
        }
      ],
      "source": [
        "print(TrIsSpam.min())\n",
        "print(TrIsSpam.max())"
      ]
    },
    {
      "cell_type": "code",
      "execution_count": 9,
      "metadata": {
        "id": "HIn_oSwOp_Oc"
      },
      "outputs": [],
      "source": [
        "ValIsSpam = np.array(ValDF['IsSpam'])\n",
        "ValX = np.array(ValDF.iloc[:,:-1])"
      ]
    },
    {
      "cell_type": "code",
      "execution_count": 10,
      "metadata": {
        "colab": {
          "base_uri": "https://localhost:8080/"
        },
        "id": "bzVx0iNjqEOq",
        "outputId": "82e65cfa-84ef-4aa5-def2-39d23c245508"
      },
      "outputs": [
        {
          "name": "stdout",
          "output_type": "stream",
          "text": [
            "(920, 57)\n",
            "[0. 0. 0. 0. 0. 0. 0. 0. 0. 0. 0. 0. 0. 0. 0. 0. 0. 0. 0. 0. 0. 0. 0. 0.\n",
            " 0. 0. 0. 0. 0. 0. 0. 0. 0. 0. 0. 0. 0. 0. 0. 0. 0. 0. 0. 0. 0. 0. 0. 0.\n",
            " 0. 0. 0. 0. 0. 0. 0. 0. 0.]\n",
            "[0.61013216 1.         0.89019608 1.00187222 0.476      0.41326531\n",
            " 0.31361761 2.37393162 0.95752896 1.63636364 0.76628352 1.25747724\n",
            " 0.46486486 0.512      0.64852608 1.         0.68164062 0.45764576\n",
            " 0.4848     0.28547855 1.03734827 0.78011696 0.66422018 0.1504\n",
            " 0.96015362 0.45448179 0.75007501 0.57142857 0.69216922 0.80952381\n",
            " 2.62605042 1.         0.34378438 1.         0.238      1.61554622\n",
            " 0.53701016 0.14645858 0.43834383 1.         0.70028011 1.28532853\n",
            " 0.96358543 0.405      0.42857143 0.91916168 0.73732719 0.5\n",
            " 1.00412182 1.84801971 0.68047047 3.39195822 0.38813926 2.67706224\n",
            " 0.60463005 4.53381752 1.09812268]\n"
          ]
        }
      ],
      "source": [
        "# Rescale the validation data X variable\n",
        "ValX = np.array(ValDF.iloc[:,0:57])\n",
        "ValXrsc = (ValX - TrX.min(axis=0))/TrX.ptp(axis=0)\n",
        "print(ValXrsc.shape)\n",
        "print(ValXrsc.min(axis=0))\n",
        "print(ValXrsc.max(axis=0))"
      ]
    },
    {
      "cell_type": "code",
      "execution_count": 11,
      "metadata": {
        "id": "9e0JRizfqONB"
      },
      "outputs": [],
      "source": [
        "TestIsSpam = np.array(TestDF['IsSpam'])\n",
        "TestX = np.array(TestDF.iloc[:,:-1])"
      ]
    },
    {
      "cell_type": "code",
      "execution_count": 12,
      "metadata": {
        "colab": {
          "base_uri": "https://localhost:8080/"
        },
        "id": "Vumom5eCqOZg",
        "outputId": "a4733b26-ae12-415b-c496-cdcb3a16d6d3"
      },
      "outputs": [
        {
          "name": "stdout",
          "output_type": "stream",
          "text": [
            "(920, 57)\n",
            "[0. 0. 0. 0. 0. 0. 0. 0. 0. 0. 0. 0. 0. 0. 0. 0. 0. 0. 0. 0. 0. 0. 0. 0.\n",
            " 0. 0. 0. 0. 0. 0. 0. 0. 0. 0. 0. 0. 0. 0. 0. 0. 0. 0. 0. 0. 0. 0. 0. 0.\n",
            " 0. 0. 0. 0. 0. 0. 0. 0. 0.]\n",
            "[0.88105727 1.         0.78431373 0.0135736  0.769      0.58503401\n",
            " 1.         1.29487179 2.03088803 0.33753375 0.76628352 0.83875163\n",
            " 1.         0.555      0.52380952 0.5        1.39453125 0.58635864\n",
            " 0.7616     0.28547855 0.74696545 0.73684211 0.65504587 0.3528\n",
            " 0.87277964 1.16666667 1.         1.09123649 1.28532853 0.80952381\n",
            " 1.         1.         0.45819582 1.         0.238      1.\n",
            " 0.65892598 0.34213685 0.87758776 1.         0.45098039 1.28532853\n",
            " 1.         0.25       1.28571429 1.32035928 0.40552995 0.37\n",
            " 0.9441264  0.80936138 0.16883117 0.66704961 0.88289189 0.93101121\n",
            " 0.40157331 0.6827054  1.72888016]\n"
          ]
        }
      ],
      "source": [
        "# Rescale the test data X variable\n",
        "TeX = np.array(TestDF.iloc[:,0:57])\n",
        "TeXrsc = (TeX - TrX.min(axis=0))/TrX.ptp(axis=0)\n",
        "print(TeXrsc.shape)\n",
        "print(TeXrsc.min(axis=0))\n",
        "print(TeXrsc.max(axis=0))"
      ]
    },
    {
      "attachments": {},
      "cell_type": "markdown",
      "metadata": {
        "id": "gHgH37EbqhWC"
      },
      "source": [
        "# Q3:Set up Neural Net Model"
      ]
    },
    {
      "cell_type": "code",
      "execution_count": 34,
      "metadata": {
        "id": "XKYSBFbPqeej"
      },
      "outputs": [],
      "source": [
        "#q3,1 layer,20 neurons\n",
        "SpiralNN = Sequential()\n",
        "SpiralNN.add(Dense(units=20,activation=\"relu\",use_bias=True))\n",
        "SpiralNN.add(Dense(units=1,activation=\"sigmoid\",use_bias=True))\n",
        "SpiralNN.compile(loss='binary_crossentropy', optimizer=Optimizer,metrics=['binary_crossentropy','accuracy'])"
      ]
    },
    {
      "cell_type": "code",
      "execution_count": 16,
      "metadata": {
        "id": "x6gr-4kKutBV"
      },
      "outputs": [],
      "source": [
        "from keras.callbacks import EarlyStopping\n",
        "StopRule = EarlyStopping(monitor='val_loss',mode='min',verbose=0,patience=100,min_delta=0.0)"
      ]
    },
    {
      "cell_type": "code",
      "execution_count": 35,
      "metadata": {
        "id": "xg4na0BkvEQs"
      },
      "outputs": [],
      "source": [
        "FitHist = SpiralNN.fit(TrXrsc,TrIsSpam,validation_data=(ValXrsc,ValIsSpam), \\\n",
        "                    epochs=NEpochs,batch_size=BatchSize,verbose=0, \\\n",
        "                    callbacks=[StopRule])"
      ]
    },
    {
      "cell_type": "code",
      "execution_count": 36,
      "metadata": {
        "colab": {
          "base_uri": "https://localhost:8080/"
        },
        "id": "_jKRx08RyNJ7",
        "outputId": "8260829c-d8b4-4d7e-cacb-ee2054520107"
      },
      "outputs": [
        {
          "name": "stdout",
          "output_type": "stream",
          "text": [
            "Number of Epochs = 588\n",
            "Final training accuracy: 0.9554509520530701\n",
            "Recent history for training accuracy: [0.9540022015571594, 0.95508873462677, 0.95508873462677, 0.9547265768051147, 0.95508873462677, 0.9543643593788147, 0.9554509520530701, 0.9540022015571594, 0.95508873462677]\n",
            "Final validation accuracy: 0.9510869383811951\n",
            "Recent history for validation accuracy: [0.946739137172699, 0.949999988079071, 0.9445652365684509, 0.9445652365684509, 0.945652186870575, 0.946739137172699, 0.9445652365684509, 0.945652186870575, 0.948913037776947]\n"
          ]
        }
      ],
      "source": [
        "print(\"Number of Epochs = \"+str(len(FitHist.history['accuracy'])))\n",
        "print(\"Final training accuracy: \"+str(FitHist.history['accuracy'][-1]))\n",
        "print(\"Recent history for training accuracy: \"+str(FitHist.history['accuracy'][-10:-1]))\n",
        "print(\"Final validation accuracy: \"+str(FitHist.history['val_accuracy'][-1]))\n",
        "print(\"Recent history for validation accuracy: \"+str(FitHist.history['val_accuracy'][-10:-1]))"
      ]
    },
    {
      "cell_type": "code",
      "execution_count": 37,
      "metadata": {
        "colab": {
          "base_uri": "https://localhost:8080/"
        },
        "id": "LEbwFsrcyCew",
        "outputId": "b62de005-f807-4b4b-bc70-8af1a9f4a04b"
      },
      "outputs": [
        {
          "name": "stdout",
          "output_type": "stream",
          "text": [
            "Model: \"sequential_4\"\n",
            "_________________________________________________________________\n",
            " Layer (type)                Output Shape              Param #   \n",
            "=================================================================\n",
            " dense_16 (Dense)            (None, 20)                1160      \n",
            "                                                                 \n",
            " dense_17 (Dense)            (None, 1)                 21        \n",
            "                                                                 \n",
            "=================================================================\n",
            "Total params: 1,181\n",
            "Trainable params: 1,181\n",
            "Non-trainable params: 0\n",
            "_________________________________________________________________\n"
          ]
        }
      ],
      "source": [
        "SpiralNN.summary()"
      ]
    },
    {
      "cell_type": "code",
      "execution_count": null,
      "metadata": {
        "id": "fWhuNRJHyFpt"
      },
      "outputs": [],
      "source": [
        "SpiralNN.weights"
      ]
    },
    {
      "cell_type": "code",
      "execution_count": 39,
      "metadata": {
        "colab": {
          "base_uri": "https://localhost:8080/"
        },
        "id": "oQ2f1C524Ovj",
        "outputId": "1c4c8d47-a091-4f71-fd08-80549d91c500"
      },
      "outputs": [
        {
          "name": "stderr",
          "output_type": "stream",
          "text": [
            "WARNING:tensorflow:5 out of the last 10 calls to <function Model.make_predict_function.<locals>.predict_function at 0x7f6ff5bf2e60> triggered tf.function retracing. Tracing is expensive and the excessive number of tracings could be due to (1) creating @tf.function repeatedly in a loop, (2) passing tensors with different shapes, (3) passing Python objects instead of tensors. For (1), please define your @tf.function outside of the loop. For (2), @tf.function has reduce_retracing=True option that can avoid unnecessary retracing. For (3), please refer to https://www.tensorflow.org/guide/function#controlling_retracing and https://www.tensorflow.org/api_docs/python/tf/function for  more details.\n"
          ]
        },
        {
          "name": "stdout",
          "output_type": "stream",
          "text": [
            "1/1 [==============================] - 0s 51ms/step\n"
          ]
        },
        {
          "name": "stderr",
          "output_type": "stream",
          "text": [
            "WARNING:tensorflow:6 out of the last 11 calls to <function Model.make_predict_function.<locals>.predict_function at 0x7f6ff5bf2e60> triggered tf.function retracing. Tracing is expensive and the excessive number of tracings could be due to (1) creating @tf.function repeatedly in a loop, (2) passing tensors with different shapes, (3) passing Python objects instead of tensors. For (1), please define your @tf.function outside of the loop. For (2), @tf.function has reduce_retracing=True option that can avoid unnecessary retracing. For (3), please refer to https://www.tensorflow.org/guide/function#controlling_retracing and https://www.tensorflow.org/api_docs/python/tf/function for  more details.\n"
          ]
        },
        {
          "name": "stdout",
          "output_type": "stream",
          "text": [
            "1/1 [==============================] - 0s 45ms/step\n",
            "1/1 [==============================] - 0s 16ms/step\n"
          ]
        }
      ],
      "source": [
        "#%% Make Predictions\n",
        "TrP = SpiralNN.predict(TrXrsc,batch_size=TrXrsc.shape[0])\n",
        "ValP = SpiralNN.predict(ValXrsc,batch_size=TrXrsc.shape[0])\n",
        "TestP = SpiralNN.predict(TeXrsc,batch_size=TrXrsc.shape[0])"
      ]
    },
    {
      "cell_type": "code",
      "execution_count": 40,
      "metadata": {
        "id": "2hz4uNbF4jKA"
      },
      "outputs": [],
      "source": [
        "TrainDF['TrP'] = TrP.reshape(-1)\n",
        "ValDF['ValP'] = ValP.reshape(-1)\n",
        "TestDF['TestP'] = TestP.reshape(-1)"
      ]
    },
    {
      "cell_type": "code",
      "execution_count": 41,
      "metadata": {
        "id": "e1jrknDM42uv"
      },
      "outputs": [],
      "source": [
        "TrainDF.to_csv('SpamNNWideTrainDFOutput.csv',sep=',',na_rep=\"NA\",header=True,index=False)\n",
        "ValDF.to_csv('SpamNNWideValDFOutput.csv',sep=',',na_rep=\"NA\",header=True,index=False)\n",
        "TestDF.to_csv('SpamNNWideTestDFOutput.csv',sep=',',na_rep=\"NA\",header=True,index=False)"
      ]
    },
    {
      "attachments": {},
      "cell_type": "markdown",
      "metadata": {
        "id": "xyFiYaDn50sK"
      },
      "source": [
        "# Q4:Set up Neural Net Model"
      ]
    },
    {
      "cell_type": "code",
      "execution_count": 27,
      "metadata": {
        "id": "kwfiTDrT58uN"
      },
      "outputs": [],
      "source": [
        "NNdeep = Sequential()\n",
        "NNdeep.add(Dense(units=4,activation=\"relu\",use_bias=True))\n",
        "NNdeep.add(Dense(units=4,activation=\"relu\",use_bias=True))\n",
        "NNdeep.add(Dense(units=4,activation=\"relu\",use_bias=True))\n",
        "NNdeep.add(Dense(units=4,activation=\"relu\",use_bias=True))\n",
        "NNdeep.add(Dense(units=4,activation=\"relu\",use_bias=True))\n",
        "NNdeep.add(Dense(units=1,activation=\"sigmoid\",use_bias=True))\n",
        "NNdeep.compile(loss='binary_crossentropy', optimizer=Optimizer,metrics=['binary_crossentropy','accuracy'])"
      ]
    },
    {
      "cell_type": "code",
      "execution_count": 28,
      "metadata": {
        "id": "K6zePMjy6ByY"
      },
      "outputs": [],
      "source": [
        "Fit2 = NNdeep.fit(TrXrsc,TrIsSpam,validation_data=(ValXrsc,ValIsSpam), \\\n",
        "                    epochs=NEpochs,batch_size=BatchSize,verbose=0, \\\n",
        "                    callbacks=[StopRule])"
      ]
    },
    {
      "cell_type": "code",
      "execution_count": 29,
      "metadata": {
        "colab": {
          "base_uri": "https://localhost:8080/"
        },
        "id": "TzaxI8656yys",
        "outputId": "9a090f74-d9ac-49b4-c631-bb582844d53d"
      },
      "outputs": [
        {
          "name": "stdout",
          "output_type": "stream",
          "text": [
            "Number of Epochs = 470\n",
            "Final training accuracy: 0.9420499801635742\n",
            "Recent history for training accuracy: [0.9413256049156189, 0.9424121975898743, 0.9427743554115295, 0.9427743554115295, 0.941687822341919, 0.9427743554115295, 0.9420499801635742, 0.9427743554115295, 0.9420499801635742]\n",
            "Final validation accuracy: 0.935869574546814\n",
            "Recent history for validation accuracy: [0.938043475151062, 0.939130425453186, 0.938043475151062, 0.9402173757553101, 0.9402173757553101, 0.935869574546814, 0.939130425453186, 0.939130425453186, 0.936956524848938]\n"
          ]
        }
      ],
      "source": [
        "print(\"Number of Epochs = \"+str(len(Fit2.history['accuracy'])))\n",
        "print(\"Final training accuracy: \"+str(Fit2.history['accuracy'][-1]))\n",
        "print(\"Recent history for training accuracy: \"+str(Fit2.history['accuracy'][-10:-1]))\n",
        "print(\"Final validation accuracy: \"+str(Fit2.history['val_accuracy'][-1]))\n",
        "print(\"Recent history for validation accuracy: \"+str(Fit2.history['val_accuracy'][-10:-1]))"
      ]
    },
    {
      "cell_type": "code",
      "execution_count": 30,
      "metadata": {
        "colab": {
          "base_uri": "https://localhost:8080/"
        },
        "id": "XbJSCyFx612h",
        "outputId": "cabd3390-d5b7-4964-cedf-be8c80547441"
      },
      "outputs": [
        {
          "name": "stdout",
          "output_type": "stream",
          "text": [
            "Model: \"sequential_3\"\n",
            "_________________________________________________________________\n",
            " Layer (type)                Output Shape              Param #   \n",
            "=================================================================\n",
            " dense_10 (Dense)            (None, 4)                 232       \n",
            "                                                                 \n",
            " dense_11 (Dense)            (None, 4)                 20        \n",
            "                                                                 \n",
            " dense_12 (Dense)            (None, 4)                 20        \n",
            "                                                                 \n",
            " dense_13 (Dense)            (None, 4)                 20        \n",
            "                                                                 \n",
            " dense_14 (Dense)            (None, 4)                 20        \n",
            "                                                                 \n",
            " dense_15 (Dense)            (None, 1)                 5         \n",
            "                                                                 \n",
            "=================================================================\n",
            "Total params: 317\n",
            "Trainable params: 317\n",
            "Non-trainable params: 0\n",
            "_________________________________________________________________\n"
          ]
        }
      ],
      "source": [
        "NNdeep.summary()"
      ]
    },
    {
      "cell_type": "code",
      "execution_count": 31,
      "metadata": {
        "colab": {
          "base_uri": "https://localhost:8080/"
        },
        "id": "GTYzC2ap69aj",
        "outputId": "63a59f45-646f-4a14-f0cb-95c6a36cd8d7"
      },
      "outputs": [
        {
          "name": "stdout",
          "output_type": "stream",
          "text": [
            "1/1 [==============================] - 0s 78ms/step\n",
            "1/1 [==============================] - 0s 70ms/step\n",
            "1/1 [==============================] - 0s 20ms/step\n"
          ]
        }
      ],
      "source": [
        "#%% Make Predictions\n",
        "TrPRed2 = NNdeep.predict(TrXrsc,batch_size=TrXrsc.shape[0])\n",
        "ValPRed2 = NNdeep.predict(ValXrsc,batch_size=TrXrsc.shape[0])\n",
        "TestPRed2 = NNdeep.predict(TeXrsc,batch_size=TrXrsc.shape[0])"
      ]
    },
    {
      "cell_type": "code",
      "execution_count": 32,
      "metadata": {
        "id": "JnzAxLoV7KNF"
      },
      "outputs": [],
      "source": [
        "TrainDF['TrP'] = TrPRed2.reshape(-1)\n",
        "ValDF['ValP'] = ValPRed2.reshape(-1)\n",
        "TestDF['TestP'] =TestPRed2.reshape(-1)"
      ]
    },
    {
      "cell_type": "code",
      "execution_count": 33,
      "metadata": {
        "id": "SnlA3t_07Z-Z"
      },
      "outputs": [],
      "source": [
        "TrainDF.to_csv('SpamNNDeepTrainDFOutput4.csv',sep=',',na_rep=\"NA\",header=True,index=False)\n",
        "ValDF.to_csv('SpamNNDeepValDFOutput4.csv',sep=',',na_rep=\"NA\",header=True,index=False)\n",
        "TestDF.to_csv('SpamNNDeepTestDFOutput4.csv',sep=',',na_rep=\"NA\",header=True,index=False)"
      ]
    }
  ],
  "metadata": {
    "colab": {
      "provenance": []
    },
    "kernelspec": {
      "display_name": "Python 3",
      "name": "python3"
    },
    "language_info": {
      "name": "python"
    }
  },
  "nbformat": 4,
  "nbformat_minor": 0
}
